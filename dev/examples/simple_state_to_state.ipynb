{
 "cells": [
  {
   "cell_type": "markdown",
   "source": [
    "# Example 1: Optimization of a State-to-State Transfer in a Two-Level-System"
   ],
   "metadata": {}
  },
  {
   "cell_type": "markdown",
   "source": [
    "$\n",
    "\\newcommand{tr}[0]{\\operatorname{tr}}\n",
    "\\newcommand{diag}[0]{\\operatorname{diag}}\n",
    "\\newcommand{abs}[0]{\\operatorname{abs}}\n",
    "\\newcommand{pop}[0]{\\operatorname{pop}}\n",
    "\\newcommand{aux}[0]{\\text{aux}}\n",
    "\\newcommand{opt}[0]{\\text{opt}}\n",
    "\\newcommand{tgt}[0]{\\text{tgt}}\n",
    "\\newcommand{init}[0]{\\text{init}}\n",
    "\\newcommand{lab}[0]{\\text{lab}}\n",
    "\\newcommand{rwa}[0]{\\text{rwa}}\n",
    "\\newcommand{bra}[1]{\\langle#1\\vert}\n",
    "\\newcommand{ket}[1]{\\vert#1\\rangle}\n",
    "\\newcommand{Bra}[1]{\\left\\langle#1\\right\\vert}\n",
    "\\newcommand{Ket}[1]{\\left\\vert#1\\right\\rangle}\n",
    "\\newcommand{Braket}[2]{\\left\\langle #1\\vphantom{#2}\\mid{#2}\\vphantom{#1}\\right\\rangle}\n",
    "\\newcommand{op}[1]{\\hat{#1}}\n",
    "\\newcommand{Op}[1]{\\hat{#1}}\n",
    "\\newcommand{dd}[0]{\\,\\text{d}}\n",
    "\\newcommand{Liouville}[0]{\\mathcal{L}}\n",
    "\\newcommand{DynMap}[0]{\\mathcal{E}}\n",
    "\\newcommand{identity}[0]{\\mathbf{1}}\n",
    "\\newcommand{Norm}[1]{\\lVert#1\\rVert}\n",
    "\\newcommand{Abs}[1]{\\left\\vert#1\\right\\vert}\n",
    "\\newcommand{avg}[1]{\\langle#1\\rangle}\n",
    "\\newcommand{Avg}[1]{\\left\\langle#1\\right\\rangle}\n",
    "\\newcommand{AbsSq}[1]{\\left\\vert#1\\right\\vert^2}\n",
    "\\newcommand{Re}[0]{\\operatorname{Re}}\n",
    "\\newcommand{Im}[0]{\\operatorname{Im}}\n",
    "$"
   ],
   "metadata": {}
  },
  {
   "cell_type": "markdown",
   "source": [
    "This first example illustrates the basic use of the `Krotov.jl` by solving a\n",
    "simple canonical optimization problem: the transfer of population in a two\n",
    "level system."
   ],
   "metadata": {}
  },
  {
   "outputs": [],
   "cell_type": "code",
   "source": [
    "using QuantumControl\n",
    "using LinearAlgebra"
   ],
   "metadata": {},
   "execution_count": null
  },
  {
   "cell_type": "markdown",
   "source": [
    "## Two-level Hamiltonian"
   ],
   "metadata": {}
  },
  {
   "cell_type": "markdown",
   "source": [
    "We consider the Hamiltonian $\\op{H}_{0} = - \\frac{\\omega}{2} \\op{\\sigma}_{z}$, representing\n",
    "a simple qubit with energy level splitting $\\omega$ in the basis\n",
    "$\\{\\ket{0},\\ket{1}\\}$. The control field $\\epsilon(t)$ is assumed to couple via\n",
    "the Hamiltonian $\\op{H}_{1}(t) = \\epsilon(t) \\op{\\sigma}_{x}$ to the qubit,\n",
    "i.e., the control field effectively drives transitions between both qubit\n",
    "states.\n",
    "\n",
    "We we will use"
   ],
   "metadata": {}
  },
  {
   "outputs": [],
   "cell_type": "code",
   "source": [
    "ϵ(t) = 0.2 * QuantumControl.shapes.flattop(t, T=5, t_rise=0.3, func=:blackman);"
   ],
   "metadata": {},
   "execution_count": null
  },
  {
   "outputs": [],
   "cell_type": "code",
   "source": [
    "\"\"\"Two-level-system Hamiltonian.\"\"\"\n",
    "function hamiltonian(Ω=1.0, ϵ=ϵ)\n",
    "    σ̂_z = ComplexF64[1 0; 0 -1];\n",
    "    σ̂_x = ComplexF64[0 1; 1  0];\n",
    "    Ĥ₀ = -0.5 * Ω * σ̂_z\n",
    "    Ĥ₁ = σ̂_x\n",
    "    return (Ĥ₀, (Ĥ₁, ϵ))\n",
    "end\n",
    ";"
   ],
   "metadata": {},
   "execution_count": null
  },
  {
   "outputs": [],
   "cell_type": "code",
   "source": [
    "H = hamiltonian();"
   ],
   "metadata": {},
   "execution_count": null
  },
  {
   "cell_type": "markdown",
   "source": [
    "The control field here switches on from zero at $t=0$ to it's maximum amplitude\n",
    "0.2 within the time period 0.3 (the switch-on shape is half a [Blackman pulse](https://en.wikipedia.org/wiki/Window_function#Blackman_window)).\n",
    "It switches off again in the time period 0.3 before the\n",
    "final time $T=5$). We use a time grid with 500 time steps between 0 and $T$:"
   ],
   "metadata": {}
  },
  {
   "outputs": [],
   "cell_type": "code",
   "source": [
    "tlist = collect(range(0, 5, length=500));"
   ],
   "metadata": {},
   "execution_count": null
  },
  {
   "outputs": [],
   "cell_type": "code",
   "source": [
    "using PyPlot\n",
    "matplotlib.use(\"Agg\")\n",
    "\n",
    "function plot_control(pulse::Vector, tlist)\n",
    "    fig, ax = matplotlib.pyplot.subplots(figsize=(6, 3))\n",
    "    ax.plot(tlist, pulse)\n",
    "    ax.set_xlabel(\"time\")\n",
    "    ax.set_ylabel(\"amplitude\")\n",
    "    return fig\n",
    "end\n",
    "\n",
    "plot_control(ϵ::T, tlist) where T<:Function =\n",
    "    plot_control([ϵ(t) for t in tlist], tlist)\n",
    "\n",
    "plot_control(H[2][2], tlist)"
   ],
   "metadata": {},
   "execution_count": null
  },
  {
   "cell_type": "markdown",
   "source": [
    "## Optimization target"
   ],
   "metadata": {}
  },
  {
   "cell_type": "markdown",
   "source": [
    "The `krotov` package requires the goal of the optimization to be described by a\n",
    "list of `Objective` instances. In this example, there is only a single\n",
    "objective: the state-to-state transfer from initial state $\\ket{\\Psi_{\\init}} =\n",
    "\\ket{0}$ to the target state $\\ket{\\Psi_{\\tgt}} = \\ket{1}$, under the dynamics\n",
    "of the Hamiltonian $\\op{H}(t)$:"
   ],
   "metadata": {}
  },
  {
   "outputs": [],
   "cell_type": "code",
   "source": [
    "function ket(label)\n",
    "    result = Dict(\n",
    "        \"0\" => Vector{ComplexF64}([1, 0]),\n",
    "        \"1\" => Vector{ComplexF64}([0, 1]),\n",
    "    )\n",
    "    return result[string(label)]\n",
    "end\n",
    ";"
   ],
   "metadata": {},
   "execution_count": null
  },
  {
   "outputs": [],
   "cell_type": "code",
   "source": [
    "objectives = [\n",
    "    Objective(initial_state=ket(0), generator=H, target_state=ket(1))\n",
    "]"
   ],
   "metadata": {},
   "execution_count": null
  },
  {
   "outputs": [],
   "cell_type": "code",
   "source": [
    "problem = ControlProblem(\n",
    "    objectives=objectives,\n",
    "    pulse_options=IdDict(\n",
    "        ϵ  => Dict(\n",
    "            :lambda_a => 5,\n",
    "            :update_shape => t -> QuantumControl.shapes.flattop(\n",
    "                t, T=5, t_rise=0.3, func=:blackman\n",
    "            ),\n",
    "        )\n",
    "    ),\n",
    "    tlist=tlist,\n",
    "    iter_stop=50,\n",
    "    chi=QuantumControl.functionals.chi_ss!,\n",
    "    J_T=QuantumControl.functionals.J_T_ss,\n",
    "    check_convergence= res -> begin (\n",
    "            (res.J_T < 1e-3)\n",
    "            && (res.converged = true)\n",
    "            && (res.message=\"J_T < 10⁻³\")\n",
    "        ) end\n",
    ");"
   ],
   "metadata": {},
   "execution_count": null
  },
  {
   "cell_type": "markdown",
   "source": [
    "## Simulate dynamics under the guess field"
   ],
   "metadata": {}
  },
  {
   "cell_type": "markdown",
   "source": [
    "Before running the optimization procedure, we first simulate the dynamics under the\n",
    "guess field $\\epsilon_{0}(t)$. The following solves equation of motion for the\n",
    "defined objective, which contains the initial state $\\ket{\\Psi_{\\init}}$ and\n",
    "the Hamiltonian $\\op{H}(t)$ defining its evolution."
   ],
   "metadata": {}
  },
  {
   "outputs": [],
   "cell_type": "code",
   "source": [
    "guess_dynamics = propagate(\n",
    "        objectives[1], problem.tlist;\n",
    "        storage=true, observables=(Ψ->abs.(Ψ).^2, )\n",
    ")"
   ],
   "metadata": {},
   "execution_count": null
  },
  {
   "outputs": [],
   "cell_type": "code",
   "source": [
    "function plot_population(pop0::Vector, pop1::Vector, tlist)\n",
    "    fig, ax = matplotlib.pyplot.subplots(figsize=(6, 3))\n",
    "    ax.plot(tlist, pop0, label=\"0\")\n",
    "    ax.plot(tlist, pop1, label=\"1\")\n",
    "    ax.legend()\n",
    "    ax.set_xlabel(\"time\")\n",
    "    ax.set_ylabel(\"population\")\n",
    "    return fig\n",
    "end\n",
    "\n",
    "plot_population(guess_dynamics[1,:], guess_dynamics[2,:], tlist)"
   ],
   "metadata": {},
   "execution_count": null
  },
  {
   "cell_type": "markdown",
   "source": [
    "## Optimize"
   ],
   "metadata": {}
  },
  {
   "cell_type": "markdown",
   "source": [
    "In the following we optimize the guess field $\\epsilon_{0}(t)$ such\n",
    "that the intended state-to-state transfer $\\ket{\\Psi_{\\init}} \\rightarrow\n",
    "\\ket{\\Psi_{\\tgt}}$ is solved, via the `krotov` package's central\n",
    "`optimize_pulses` routine.  It requires, besides the previously defined\n",
    "`objectives`, information about the optimization functional $J_T$ (implicitly,\n",
    "via `chi_constructor`, which calculates the states $\\ket{\\chi} =\n",
    "\\frac{J_T}{\\bra{\\Psi}}$)."
   ],
   "metadata": {}
  },
  {
   "outputs": [],
   "cell_type": "code",
   "source": [
    "opt_result = optimize(problem, method=:krotov);"
   ],
   "metadata": {},
   "execution_count": null
  },
  {
   "outputs": [],
   "cell_type": "code",
   "source": [
    "opt_result"
   ],
   "metadata": {},
   "execution_count": null
  },
  {
   "cell_type": "markdown",
   "source": [
    "We can plot the optimized field:"
   ],
   "metadata": {}
  },
  {
   "outputs": [],
   "cell_type": "code",
   "source": [
    "plot_control(opt_result.optimized_controls[1], tlist)"
   ],
   "metadata": {},
   "execution_count": null
  },
  {
   "cell_type": "markdown",
   "source": [
    "## Simulate the dynamics under the optimized field"
   ],
   "metadata": {}
  },
  {
   "cell_type": "markdown",
   "source": [
    "Having obtained the optimized control field, we can simulate the dynamics to\n",
    "verify that the optimized field indeed drives the initial state\n",
    "$\\ket{\\Psi_{\\init}} = \\ket{0}$ to the desired target state\n",
    "$\\ket{\\Psi_{\\tgt}} = \\ket{1}$."
   ],
   "metadata": {}
  },
  {
   "outputs": [],
   "cell_type": "code",
   "source": [
    "opt_dynamics = propagate(\n",
    "        objectives[1], problem.tlist;\n",
    "        controls_map=IdDict(ϵ  => opt_result.optimized_controls[1]),\n",
    "        storage=true, observables=(Ψ->abs.(Ψ).^2, )\n",
    ")"
   ],
   "metadata": {},
   "execution_count": null
  },
  {
   "outputs": [],
   "cell_type": "code",
   "source": [
    "plot_population(opt_dynamics[1,:], opt_dynamics[2,:], tlist)"
   ],
   "metadata": {},
   "execution_count": null
  },
  {
   "cell_type": "markdown",
   "source": [
    "---\n",
    "\n",
    "*This notebook was generated using [Literate.jl](https://github.com/fredrikekre/Literate.jl).*"
   ],
   "metadata": {}
  }
 ],
 "nbformat_minor": 3,
 "metadata": {
  "language_info": {
   "file_extension": ".jl",
   "mimetype": "application/julia",
   "name": "julia",
   "version": "1.6.3"
  },
  "kernelspec": {
   "name": "julia-1.6",
   "display_name": "Julia 1.6.3",
   "language": "julia"
  }
 },
 "nbformat": 4
}
